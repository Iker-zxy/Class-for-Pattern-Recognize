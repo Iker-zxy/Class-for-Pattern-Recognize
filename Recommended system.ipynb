{
 "cells": [
  {
   "cell_type": "code",
   "execution_count": 1,
   "metadata": {
    "colab": {
     "base_uri": "https://localhost:8080/",
     "height": 224
    },
    "colab_type": "code",
    "executionInfo": {
     "elapsed": 76417,
     "status": "ok",
     "timestamp": 1560848036243,
     "user": {
      "displayName": "星程",
      "photoUrl": "https://lh3.googleusercontent.com/-NOEzZRf4kc4/AAAAAAAAAAI/AAAAAAAAABk/t825kwO_49M/s64/photo.jpg",
      "userId": "06492859864192307459"
     },
     "user_tz": -480
    },
    "id": "0KET4J7ywyAR",
    "outputId": "0fcfd9f3-dbdd-45e5-c8e4-0d2191cb5b35"
   },
   "outputs": [
    {
     "name": "stdout",
     "output_type": "stream",
     "text": [
      "E: Package 'python-software-properties' has no installation candidate\n",
      "Selecting previously unselected package google-drive-ocamlfuse.\n",
      "(Reading database ... 130912 files and directories currently installed.)\n",
      "Preparing to unpack .../google-drive-ocamlfuse_0.7.4-0ubuntu1~ubuntu18.04.1_amd64.deb ...\n",
      "Unpacking google-drive-ocamlfuse (0.7.4-0ubuntu1~ubuntu18.04.1) ...\n",
      "Setting up google-drive-ocamlfuse (0.7.4-0ubuntu1~ubuntu18.04.1) ...\n",
      "Processing triggers for man-db (2.8.3-2ubuntu0.1) ...\n",
      "Please, open the following URL in a web browser: https://accounts.google.com/o/oauth2/auth?client_id=32555940559.apps.googleusercontent.com&redirect_uri=urn%3Aietf%3Awg%3Aoauth%3A2.0%3Aoob&scope=https%3A%2F%2Fwww.googleapis.com%2Fauth%2Fdrive&response_type=code&access_type=offline&approval_prompt=force\n",
      "··········\n",
      "Please, open the following URL in a web browser: https://accounts.google.com/o/oauth2/auth?client_id=32555940559.apps.googleusercontent.com&redirect_uri=urn%3Aietf%3Awg%3Aoauth%3A2.0%3Aoob&scope=https%3A%2F%2Fwww.googleapis.com%2Fauth%2Fdrive&response_type=code&access_type=offline&approval_prompt=force\n",
      "Please enter the verification code: Access token retrieved correctly.\n"
     ]
    }
   ],
   "source": [
    "!apt-get install -y -qq software-properties-common python-software-properties module-init-tools\n",
    "!add-apt-repository -y ppa:alessandro-strada/ppa 2>&1 > /dev/null\n",
    "!apt-get update -qq 2>&1 > /dev/null\n",
    "!apt-get -y install -qq google-drive-ocamlfuse fuse\n",
    "from google.colab import auth\n",
    "auth.authenticate_user()\n",
    "from oauth2client.client import GoogleCredentials\n",
    "creds = GoogleCredentials.get_application_default()\n",
    "import getpass\n",
    "!google-drive-ocamlfuse -headless -id={creds.client_id} -secret={creds.client_secret} < /dev/null 2>&1 | grep URL\n",
    "vcode = getpass.getpass()\n",
    "!echo {vcode} | google-drive-ocamlfuse -headless -id={creds.client_id} -secret={creds.client_secret}"
   ]
  },
  {
   "cell_type": "code",
   "execution_count": 0,
   "metadata": {
    "colab": {},
    "colab_type": "code",
    "id": "wknU7PVJyV01"
   },
   "outputs": [],
   "source": [
    "!mkdir -p drive\n",
    "!google-drive-ocamlfuse drive"
   ]
  },
  {
   "cell_type": "code",
   "execution_count": 3,
   "metadata": {
    "colab": {
     "base_uri": "https://localhost:8080/",
     "height": 34
    },
    "colab_type": "code",
    "executionInfo": {
     "elapsed": 4734,
     "status": "ok",
     "timestamp": 1560848055215,
     "user": {
      "displayName": "星程",
      "photoUrl": "https://lh3.googleusercontent.com/-NOEzZRf4kc4/AAAAAAAAAAI/AAAAAAAAABk/t825kwO_49M/s64/photo.jpg",
      "userId": "06492859864192307459"
     },
     "user_tz": -480
    },
    "id": "r86kZwapyY9o",
    "outputId": "4b851b55-c0c7-4c25-839e-b3bd7c14ff3d"
   },
   "outputs": [
    {
     "name": "stdout",
     "output_type": "stream",
     "text": [
      "adc.json  drive  sample_data\n"
     ]
    }
   ],
   "source": [
    "!ls"
   ]
  },
  {
   "cell_type": "markdown",
   "metadata": {},
   "source": [
    "# 数据挖掘与推荐系统（2019春季作业）"
   ]
  },
  {
   "cell_type": "code",
   "execution_count": 18,
   "metadata": {
    "colab": {
     "base_uri": "https://localhost:8080/",
     "height": 289
    },
    "colab_type": "code",
    "executionInfo": {
     "elapsed": 31413,
     "status": "ok",
     "timestamp": 1560849911847,
     "user": {
      "displayName": "星程",
      "photoUrl": "https://lh3.googleusercontent.com/-NOEzZRf4kc4/AAAAAAAAAAI/AAAAAAAAABk/t825kwO_49M/s64/photo.jpg",
      "userId": "06492859864192307459"
     },
     "user_tz": -480
    },
    "id": "GSo1Y3QPg9yv",
    "outputId": "f73774c5-40f6-4bbb-cbd5-81891245167e"
   },
   "outputs": [
    {
     "name": "stdout",
     "output_type": "stream",
     "text": [
      "    user_id    item_id  behavior_type           time\n",
      "0  10001082  285259775              1  2014-12-08 18\n",
      "1  10001082    4368907              1  2014-12-12 12\n",
      "2  10001082    4368907              1  2014-12-12 12\n",
      "3  10001082   53616768              1  2014-12-02 15\n",
      "4  10001082  151466952              1  2014-12-12 11\n",
      "<class 'pandas.core.frame.DataFrame'>\n",
      "RangeIndex: 23291027 entries, 0 to 23291026\n",
      "Data columns (total 4 columns):\n",
      "user_id          int64\n",
      "item_id          int64\n",
      "behavior_type    int64\n",
      "time             object\n",
      "dtypes: int64(3), object(1)\n",
      "memory usage: 710.8+ MB\n",
      "None\n"
     ]
    }
   ],
   "source": [
    "# 1、查看、处理user表格和item表格\n",
    "import pandas as pd\n",
    "import numpy as np\n",
    "user_behavior_file = 'drive/Colab Notebooks/Recommended system/data/tianchi_fresh_comp_train_user.csv'\n",
    "item_file ='drive/Colab Notebooks/Recommended system/data/tianchi_fresh_comp_train_item.csv'\n",
    "\n",
    "# 读取user表格数据\n",
    "\n",
    "userAll = pd.read_csv(user_behavior_file, usecols=['user_id','item_id','behavior_type','time'], encoding='utf-8')\n",
    "print(userAll.head())#显示前5行数据\n",
    "print(userAll.info())#查看数据表相关信息\n",
    "# print(userAll.duplicated().sum())#检查有无重复行\n",
    "\n",
    "#查看、处理item子集表格\n",
    "#读取item表格数据\n",
    "itemSub = pd.read_csv(item_file, usecols=['item_id'], encoding='utf-8')\n",
    "# print(itemSub.item_id.is_unique) #查看子集中商品item编号是否有重复\n",
    "# print(itemSub.item_id.value_counts().head())#查看每个item_id有多少重复\n",
    "# print(itemSub.info())#查看商品表相关信息\n",
    "\n",
    "itemSet = itemSub[['item_id']].drop_duplicates()#去除重复的行\n",
    "# print(itemSet.info())"
   ]
  },
  {
   "cell_type": "code",
   "execution_count": 19,
   "metadata": {
    "colab": {
     "base_uri": "https://localhost:8080/",
     "height": 119
    },
    "colab_type": "code",
    "executionInfo": {
     "elapsed": 24804,
     "status": "ok",
     "timestamp": 1560849953288,
     "user": {
      "displayName": "星程",
      "photoUrl": "https://lh3.googleusercontent.com/-NOEzZRf4kc4/AAAAAAAAAAI/AAAAAAAAABk/t825kwO_49M/s64/photo.jpg",
      "userId": "06492859864192307459"
     },
     "user_tz": -480
    },
    "id": "rbbWHH_YtHfY",
    "outputId": "f4376caf-28df-4f97-ad53-4d96a580c153"
   },
   "outputs": [
    {
     "name": "stdout",
     "output_type": "stream",
     "text": [
      "    user_id    item_id  behavior_type           time\n",
      "0  10001082  275221686              1  2014-12-03 01\n",
      "1  10001082  275221686              1  2014-12-13 14\n",
      "2  10001082  275221686              1  2014-12-08 07\n",
      "3  10001082  275221686              1  2014-12-08 07\n",
      "4  10001082  275221686              1  2014-12-08 00\n"
     ]
    }
   ],
   "source": [
    "# 2、读取user和item表上的交集\n",
    "#由于预测user_item(哪些用户买了哪些商品)是在item子集上进行，因此，\n",
    "# 可以自考虑user在这些商品子集上的交互行为，来预测user_item。\n",
    "# 当然还可以用全部的user表格通过分析user在不同种类商品的交互行为，来预测user_item\n",
    "\n",
    "# 合并两列, 默认方法是how=inner, 只合并相同的部分, how的取值可以为['left', 'right', 'outer', 'inner']\n",
    "userSub = pd.merge(userAll, itemSet, on='item_id', how='inner')\n",
    "# print(userSub.info())\n",
    "print(userSub.head())\n",
    "userSub.to_csv('drive/Colab Notebooks/Recommended system/data/userSub.csv', index=False)#将该数据保存到csv文件里"
   ]
  },
  {
   "cell_type": "code",
   "execution_count": 20,
   "metadata": {
    "colab": {
     "base_uri": "https://localhost:8080/",
     "height": 119
    },
    "colab_type": "code",
    "executionInfo": {
     "elapsed": 2733,
     "status": "ok",
     "timestamp": 1560849957738,
     "user": {
      "displayName": "星程",
      "photoUrl": "https://lh3.googleusercontent.com/-NOEzZRf4kc4/AAAAAAAAAAI/AAAAAAAAABk/t825kwO_49M/s64/photo.jpg",
      "userId": "06492859864192307459"
     },
     "user_tz": -480
    },
    "id": "LEdoI6lAj1fP",
    "outputId": "9f0df0d1-13e9-4298-d648-df8269d31b9d"
   },
   "outputs": [
    {
     "name": "stdout",
     "output_type": "stream",
     "text": [
      "    user_id    item_id  behavior_type           time\n",
      "0  10001082  275221686              1  2014-12-03 01\n",
      "1  10001082  275221686              1  2014-12-13 14\n",
      "2  10001082  275221686              1  2014-12-08 07\n",
      "3  10001082  275221686              1  2014-12-08 07\n",
      "4  10001082  275221686              1  2014-12-08 00\n"
     ]
    }
   ],
   "source": [
    "# 3、处理时间数据\n",
    "#读取userSub，（先保存userSub,再读取userSub，是更换index为time的一种间接方法，(参数中输入：index_col = 'time')\n",
    "#此外，userSub作为我们作预测的主要数据集，是需要保存的。 ）\n",
    "userSub = pd.read_csv('drive/Colab Notebooks/Recommended system/data/userSub.csv', usecols=['user_id','item_id','behavior_type', 'time'], parse_dates = True)\n",
    "# print(userSub.info())\n",
    "# print(userSub.head())\n",
    "userSub = userSub.sort_index().copy()\n",
    "# print(userSub.index)\n",
    "print(userSub.head())"
   ]
  },
  {
   "cell_type": "code",
   "execution_count": 21,
   "metadata": {
    "colab": {
     "base_uri": "https://localhost:8080/",
     "height": 136
    },
    "colab_type": "code",
    "executionInfo": {
     "elapsed": 32981,
     "status": "ok",
     "timestamp": 1560850008930,
     "user": {
      "displayName": "星程",
      "photoUrl": "https://lh3.googleusercontent.com/-NOEzZRf4kc4/AAAAAAAAAAI/AAAAAAAAABk/t825kwO_49M/s64/photo.jpg",
      "userId": "06492859864192307459"
     },
     "user_tz": -480
    },
    "id": "0LXDkHIykuBO",
    "outputId": "34d2253e-0e95-4c05-9e08-579f1ebd143e"
   },
   "outputs": [
    {
     "name": "stderr",
     "output_type": "stream",
     "text": [
      "/usr/local/lib/python3.6/dist-packages/ipykernel_launcher.py:21: DeprecationWarning: \n",
      ".ix is deprecated. Please use\n",
      ".loc for label based indexing or\n",
      ".iloc for positional indexing\n",
      "\n",
      "See the documentation here:\n",
      "http://pandas.pydata.org/pandas-docs/stable/indexing.html#ix-indexer-is-deprecated\n"
     ]
    }
   ],
   "source": [
    "# 4、进行特征处理\n",
    "#特征处理包括两部分：\n",
    "# ①将user-item(用户商品对)的交互行为进行哑变量编码\n",
    "# ②设置时间窗口，提取交互行为的一段时间内统计量\n",
    "# print(pd.get_dummies(userSub['behavior_type'], prefix='type').head())#get_dummies是将拥有不同值的变量转换为0/1数值。\n",
    "typeDummies = pd.get_dummies(userSub['behavior_type'], prefix='type')#onehot哑变量编码\n",
    "# print(userSub.info())\n",
    "userSubOneHot = pd.concat([userSub[['user_id', 'item_id', 'time']], typeDummies], axis= 1)#可以将数据根据不同的轴作简单的融合 axis=0根据行融合，axis=1根据列融合\n",
    "\n",
    "usertem = pd.concat([userSub[['user_id', 'item_id']], typeDummies, userSub[['time']]], axis=1)#将哑变量特征加入表中\n",
    "# print(usertem.head())\n",
    "# print(usertem.groupby(['time', 'user_id', 'item_id'], as_index=False).sum().head())#已将关键字排序，统计用户商品对的交互行为\n",
    "\n",
    "# print(userSubOneHot.head())\n",
    "# print(userSubOneHot.info())\n",
    "userSubOneHotGroup = userSubOneHot.groupby(['time', 'user_id', 'item_id'], as_index=False).sum()#另外一种方法是在sum()后使用.reset_index()方法\n",
    "# print(userSubOneHotGroup.info())\n",
    "# print(userSubOneHotGroup.head())\n",
    "\n",
    "#拆分天和小时\n",
    "# time_day_Series = userSubOneHotGroup.time.map(lambda x:x.split(' ')[0])\n",
    "# time_hour_Series = userSubOneHotGroup.time.map(lambda x:x.split(' ')[1])\n",
    "userSubOneHotGroup['time_day'] = pd.to_datetime(userSubOneHotGroup.time.values).date\n",
    "userSubOneHotGroup['time_hour'] = pd.to_datetime(userSubOneHotGroup.time.values).time\n",
    "# print(userSubOneHotGroup.head())\n",
    "dataHour = userSubOneHotGroup.ix[:, 0:7]\n",
    "# print(dataHour.info())\n",
    "\n",
    "#保存\n",
    "dataHour.to_csv('drive/Colab Notebooks/Recommended system/data/dataHour.csv', encoding='utf-8')\n",
    "# print(dataHour.duplicated().sum())#检查重复行为0\n",
    "\n",
    "dataDay = userSubOneHotGroup.groupby(['time_day', 'user_id', 'item_id'], as_index=False).sum()\n",
    "# print(dataDay.info())\n",
    "# print(dataDay.head())\n",
    "#保存\n",
    "dataDay.to_csv('drive/Colab Notebooks/Recommended system/data/dataDay.csv', encoding='utf-8')\n",
    "# print(dataDay.duplicated().sum())#计算出的重复行为0\n",
    "# print(dataDay.type_4.max())"
   ]
  },
  {
   "cell_type": "code",
   "execution_count": 22,
   "metadata": {
    "colab": {
     "base_uri": "https://localhost:8080/",
     "height": 527
    },
    "colab_type": "code",
    "executionInfo": {
     "elapsed": 17095,
     "status": "ok",
     "timestamp": 1560850044658,
     "user": {
      "displayName": "星程",
      "photoUrl": "https://lh3.googleusercontent.com/-NOEzZRf4kc4/AAAAAAAAAAI/AAAAAAAAABk/t825kwO_49M/s64/photo.jpg",
      "userId": "06492859864192307459"
     },
     "user_tz": -480
    },
    "id": "Y6JOBsXUlDX0",
    "outputId": "178df2c5-ca50-490d-e298-1a4961a59fde"
   },
   "outputs": [
    {
     "name": "stderr",
     "output_type": "stream",
     "text": [
      "/usr/local/lib/python3.6/dist-packages/ipykernel_launcher.py:5: DeprecationWarning: \n",
      ".ix is deprecated. Please use\n",
      ".loc for label based indexing or\n",
      ".iloc for positional indexing\n",
      "\n",
      "See the documentation here:\n",
      "http://pandas.pydata.org/pandas-docs/stable/indexing.html#ix-indexer-is-deprecated\n",
      "  \"\"\"\n",
      "/usr/local/lib/python3.6/dist-packages/ipykernel_launcher.py:8: DeprecationWarning: \n",
      ".ix is deprecated. Please use\n",
      ".loc for label based indexing or\n",
      ".iloc for positional indexing\n",
      "\n",
      "See the documentation here:\n",
      "http://pandas.pydata.org/pandas-docs/stable/indexing.html#ix-indexer-is-deprecated\n",
      "  \n",
      "/usr/local/lib/python3.6/dist-packages/ipykernel_launcher.py:25: DeprecationWarning: \n",
      ".ix is deprecated. Please use\n",
      ".loc for label based indexing or\n",
      ".iloc for positional indexing\n",
      "\n",
      "See the documentation here:\n",
      "http://pandas.pydata.org/pandas-docs/stable/indexing.html#ix-indexer-is-deprecated\n",
      "/usr/local/lib/python3.6/dist-packages/ipykernel_launcher.py:26: DeprecationWarning: \n",
      ".ix is deprecated. Please use\n",
      ".loc for label based indexing or\n",
      ".iloc for positional indexing\n",
      "\n",
      "See the documentation here:\n",
      "http://pandas.pydata.org/pandas-docs/stable/indexing.html#ix-indexer-is-deprecated\n"
     ]
    }
   ],
   "source": [
    "#5、构造训练、测试数据集\n",
    "#使用的采样频率为天的数据表，对每个用户商品对进行是否发生购买行为进行分类，发生购买行为分类标签为1，反之为0\n",
    "dataDay_load = pd.read_csv('drive/Colab Notebooks/Recommended system/data/dataDay.csv', usecols= ['time_day','user_id','item_id','type_1', 'type_2','type_3','type_4'], index_col = 'time_day',parse_dates = True)\n",
    "# print(dataDay_load.head())\n",
    "# print(dataDay_load.info())\n",
    "\n",
    "train_x = dataDay_load.ix['2014-12-16', :]  #16号选取特征数据\n",
    "# print(train_x.info())\n",
    "# print(train_x.describe())\n",
    "train_y = dataDay_load.ix['2014-12-17', ['user_id', 'item_id', 'type_4']]#17号购买行为作为分类标签\n",
    "# print(train_y.info())\n",
    "# print(train_y.describe())\n",
    "\n",
    "dataSet = pd.merge(train_x, train_y, on=['user_id', 'item_id'], suffixes=('_x', '_y'), how='left').fillna(0.0)#特征数据和标签数据构成训练数据集   fillna(0.0)用0代替DataFrame中的缺失值NaN    suffixes=('_x','_y') 指的是当左右对象中存在除连接键外的同名列时，结果集中的区分方式，可以各加一个小尾巴\n",
    "# print(dataSet.info())\n",
    "# print(dataSet.describe())\n",
    "# print(np.sign(dataSet.type_4_y.values).sum())# np.sign()功能就是大于0的返回1.0,小于0的返回-1.0,等于0的返回0.0\n",
    "\n",
    "dataSet['labels'] = dataSet.type_4_y.map(lambda x:1.0 if x>0.0 else 0.0)\n",
    "# print(dataSet.info())\n",
    "# print(dataSet.head())\n",
    "\n",
    "# print(np.sign(dataSet.type_3.values).sum())#发生加购物车交互行为的用户商品对\n",
    "trainSet = dataSet.copy()#重命名并保存训练数据集\n",
    "trainSet.to_csv('drive/Colab Notebooks/Recommended system/data/train.csv', encoding='utf-8')\n",
    "\n",
    "test_x = dataDay_load.ix['2014-12-17', :]#17号特征数据集，作为测试输入数据集\n",
    "test_y = dataDay_load.ix['2014-12-18', ['user_id', 'item_id', 'type_4']]#18号购买行为作为测试标签数据集\n",
    "testSet = pd.merge(test_x, test_y, on=['user_id', 'item_id'], suffixes=('_x', '_y'), how='left').fillna(0.0)#构成测试数据集\n",
    "# print(testSet.info())\n",
    "# print(testSet.describe())\n",
    "testSet['labels'] = testSet.type_4_y.map(lambda x:1.0 if x>0.0 else 0.0)\n",
    "# print(testSet.describe())\n",
    "# print(testSet.info())\n",
    "# print(testSet['labels'].values.sum())  #购买样例总数\n",
    "testSet.to_csv('drive/Colab Notebooks/Recommended system/data/testSet.csv')"
   ]
  },
  {
   "cell_type": "code",
   "execution_count": 23,
   "metadata": {
    "colab": {
     "base_uri": "https://localhost:8080/",
     "height": 2706
    },
    "colab_type": "code",
    "executionInfo": {
     "elapsed": 2267,
     "status": "ok",
     "timestamp": 1560850057770,
     "user": {
      "displayName": "星程",
      "photoUrl": "https://lh3.googleusercontent.com/-NOEzZRf4kc4/AAAAAAAAAAI/AAAAAAAAABk/t825kwO_49M/s64/photo.jpg",
      "userId": "06492859864192307459"
     },
     "user_tz": -480
    },
    "id": "Bq1oncVdlbg6",
    "outputId": "476b7341-4149-45c1-b1b0-0ccd9c106243"
   },
   "outputs": [
    {
     "name": "stderr",
     "output_type": "stream",
     "text": [
      "/usr/local/lib/python3.6/dist-packages/ipykernel_launcher.py:3: DeprecationWarning: \n",
      ".ix is deprecated. Please use\n",
      ".loc for label based indexing or\n",
      ".iloc for positional indexing\n",
      "\n",
      "See the documentation here:\n",
      "http://pandas.pydata.org/pandas-docs/stable/indexing.html#ix-indexer-is-deprecated\n",
      "  This is separate from the ipykernel package so we can avoid doing imports until\n",
      "/usr/local/lib/python3.6/dist-packages/sklearn/linear_model/logistic.py:432: FutureWarning: Default solver will be changed to 'lbfgs' in 0.22. Specify a solver to silence this warning.\n",
      "  FutureWarning)\n",
      "/usr/local/lib/python3.6/dist-packages/ipykernel_launcher.py:8: DeprecationWarning: \n",
      ".ix is deprecated. Please use\n",
      ".loc for label based indexing or\n",
      ".iloc for positional indexing\n",
      "\n",
      "See the documentation here:\n",
      "http://pandas.pydata.org/pandas-docs/stable/indexing.html#ix-indexer-is-deprecated\n",
      "  \n",
      "/usr/local/lib/python3.6/dist-packages/ipykernel_launcher.py:16: DeprecationWarning: \n",
      ".ix is deprecated. Please use\n",
      ".loc for label based indexing or\n",
      ".iloc for positional indexing\n",
      "\n",
      "See the documentation here:\n",
      "http://pandas.pydata.org/pandas-docs/stable/indexing.html#ix-indexer-is-deprecated\n",
      "  app.launch_new_instance()\n",
      "/usr/local/lib/python3.6/dist-packages/sklearn/linear_model/logistic.py:432: FutureWarning: Default solver will be changed to 'lbfgs' in 0.22. Specify a solver to silence this warning.\n",
      "  FutureWarning)\n",
      "/usr/local/lib/python3.6/dist-packages/ipykernel_launcher.py:17: DeprecationWarning: \n",
      ".ix is deprecated. Please use\n",
      ".loc for label based indexing or\n",
      ".iloc for positional indexing\n",
      "\n",
      "See the documentation here:\n",
      "http://pandas.pydata.org/pandas-docs/stable/indexing.html#ix-indexer-is-deprecated\n",
      "/usr/local/lib/python3.6/dist-packages/ipykernel_launcher.py:19: DeprecationWarning: \n",
      ".ix is deprecated. Please use\n",
      ".loc for label based indexing or\n",
      ".iloc for positional indexing\n",
      "\n",
      "See the documentation here:\n",
      "http://pandas.pydata.org/pandas-docs/stable/indexing.html#ix-indexer-is-deprecated\n",
      "/usr/local/lib/python3.6/dist-packages/ipykernel_launcher.py:24: DeprecationWarning: \n",
      ".ix is deprecated. Please use\n",
      ".loc for label based indexing or\n",
      ".iloc for positional indexing\n",
      "\n",
      "See the documentation here:\n",
      "http://pandas.pydata.org/pandas-docs/stable/indexing.html#ix-indexer-is-deprecated\n",
      "/usr/local/lib/python3.6/dist-packages/sklearn/linear_model/logistic.py:432: FutureWarning: Default solver will be changed to 'lbfgs' in 0.22. Specify a solver to silence this warning.\n",
      "  FutureWarning)\n",
      "/usr/local/lib/python3.6/dist-packages/sklearn/linear_model/logistic.py:432: FutureWarning: Default solver will be changed to 'lbfgs' in 0.22. Specify a solver to silence this warning.\n",
      "  FutureWarning)\n"
     ]
    },
    {
     "name": "stdout",
     "output_type": "stream",
     "text": [
      "trainLRW_y.sum(): 3489.0\n",
      "0.8856309843289268\n"
     ]
    },
    {
     "name": "stderr",
     "output_type": "stream",
     "text": [
      "/usr/local/lib/python3.6/dist-packages/sklearn/linear_model/logistic.py:432: FutureWarning: Default solver will be changed to 'lbfgs' in 0.22. Specify a solver to silence this warning.\n",
      "  FutureWarning)\n",
      "/usr/local/lib/python3.6/dist-packages/sklearn/linear_model/logistic.py:432: FutureWarning: Default solver will be changed to 'lbfgs' in 0.22. Specify a solver to silence this warning.\n",
      "  FutureWarning)\n",
      "/usr/local/lib/python3.6/dist-packages/sklearn/linear_model/logistic.py:432: FutureWarning: Default solver will be changed to 'lbfgs' in 0.22. Specify a solver to silence this warning.\n",
      "  FutureWarning)\n",
      "/usr/local/lib/python3.6/dist-packages/ipykernel_launcher.py:27: DeprecationWarning: \n",
      ".ix is deprecated. Please use\n",
      ".loc for label based indexing or\n",
      ".iloc for positional indexing\n",
      "\n",
      "See the documentation here:\n",
      "http://pandas.pydata.org/pandas-docs/stable/indexing.html#ix-indexer-is-deprecated\n",
      "/usr/local/lib/python3.6/dist-packages/sklearn/linear_model/logistic.py:432: FutureWarning: Default solver will be changed to 'lbfgs' in 0.22. Specify a solver to silence this warning.\n",
      "  FutureWarning)\n",
      "/usr/local/lib/python3.6/dist-packages/sklearn/linear_model/logistic.py:432: FutureWarning: Default solver will be changed to 'lbfgs' in 0.22. Specify a solver to silence this warning.\n",
      "  FutureWarning)\n"
     ]
    },
    {
     "name": "stdout",
     "output_type": "stream",
     "text": [
      "精确度： 0.021054021904446628\n"
     ]
    },
    {
     "name": "stderr",
     "output_type": "stream",
     "text": [
      "/usr/local/lib/python3.6/dist-packages/sklearn/linear_model/logistic.py:432: FutureWarning: Default solver will be changed to 'lbfgs' in 0.22. Specify a solver to silence this warning.\n",
      "  FutureWarning)\n",
      "/usr/local/lib/python3.6/dist-packages/sklearn/linear_model/logistic.py:432: FutureWarning: Default solver will be changed to 'lbfgs' in 0.22. Specify a solver to silence this warning.\n",
      "  FutureWarning)\n",
      "/usr/local/lib/python3.6/dist-packages/sklearn/linear_model/logistic.py:432: FutureWarning: Default solver will be changed to 'lbfgs' in 0.22. Specify a solver to silence this warning.\n",
      "  FutureWarning)\n",
      "/usr/local/lib/python3.6/dist-packages/ipykernel_launcher.py:30: DeprecationWarning: \n",
      ".ix is deprecated. Please use\n",
      ".loc for label based indexing or\n",
      ".iloc for positional indexing\n",
      "\n",
      "See the documentation here:\n",
      "http://pandas.pydata.org/pandas-docs/stable/indexing.html#ix-indexer-is-deprecated\n",
      "/usr/local/lib/python3.6/dist-packages/sklearn/linear_model/logistic.py:432: FutureWarning: Default solver will be changed to 'lbfgs' in 0.22. Specify a solver to silence this warning.\n",
      "  FutureWarning)\n",
      "/usr/local/lib/python3.6/dist-packages/sklearn/linear_model/logistic.py:432: FutureWarning: Default solver will be changed to 'lbfgs' in 0.22. Specify a solver to silence this warning.\n",
      "  FutureWarning)\n"
     ]
    },
    {
     "name": "stdout",
     "output_type": "stream",
     "text": [
      "召回率： 0.6439999999999999\n"
     ]
    },
    {
     "name": "stderr",
     "output_type": "stream",
     "text": [
      "/usr/local/lib/python3.6/dist-packages/sklearn/linear_model/logistic.py:432: FutureWarning: Default solver will be changed to 'lbfgs' in 0.22. Specify a solver to silence this warning.\n",
      "  FutureWarning)\n",
      "/usr/local/lib/python3.6/dist-packages/sklearn/linear_model/logistic.py:432: FutureWarning: Default solver will be changed to 'lbfgs' in 0.22. Specify a solver to silence this warning.\n",
      "  FutureWarning)\n",
      "/usr/local/lib/python3.6/dist-packages/sklearn/linear_model/logistic.py:432: FutureWarning: Default solver will be changed to 'lbfgs' in 0.22. Specify a solver to silence this warning.\n",
      "  FutureWarning)\n",
      "/usr/local/lib/python3.6/dist-packages/ipykernel_launcher.py:34: DeprecationWarning: \n",
      ".ix is deprecated. Please use\n",
      ".loc for label based indexing or\n",
      ".iloc for positional indexing\n",
      "\n",
      "See the documentation here:\n",
      "http://pandas.pydata.org/pandas-docs/stable/indexing.html#ix-indexer-is-deprecated\n",
      "/usr/local/lib/python3.6/dist-packages/ipykernel_launcher.py:35: DeprecationWarning: \n",
      ".ix is deprecated. Please use\n",
      ".loc for label based indexing or\n",
      ".iloc for positional indexing\n",
      "\n",
      "See the documentation here:\n",
      "http://pandas.pydata.org/pandas-docs/stable/indexing.html#ix-indexer-is-deprecated\n",
      "/usr/local/lib/python3.6/dist-packages/sklearn/linear_model/logistic.py:432: FutureWarning: Default solver will be changed to 'lbfgs' in 0.22. Specify a solver to silence this warning.\n",
      "  FutureWarning)\n",
      "/usr/local/lib/python3.6/dist-packages/sklearn/linear_model/logistic.py:432: FutureWarning: Default solver will be changed to 'lbfgs' in 0.22. Specify a solver to silence this warning.\n",
      "  FutureWarning)\n"
     ]
    },
    {
     "name": "stdout",
     "output_type": "stream",
     "text": [
      "得分： 0.04072814313251792\n"
     ]
    },
    {
     "name": "stderr",
     "output_type": "stream",
     "text": [
      "/usr/local/lib/python3.6/dist-packages/sklearn/linear_model/logistic.py:432: FutureWarning: Default solver will be changed to 'lbfgs' in 0.22. Specify a solver to silence this warning.\n",
      "  FutureWarning)\n",
      "/usr/local/lib/python3.6/dist-packages/sklearn/linear_model/logistic.py:432: FutureWarning: Default solver will be changed to 'lbfgs' in 0.22. Specify a solver to silence this warning.\n",
      "  FutureWarning)\n",
      "/usr/local/lib/python3.6/dist-packages/sklearn/linear_model/logistic.py:432: FutureWarning: Default solver will be changed to 'lbfgs' in 0.22. Specify a solver to silence this warning.\n",
      "  FutureWarning)\n",
      "/usr/local/lib/python3.6/dist-packages/ipykernel_launcher.py:36: DeprecationWarning: \n",
      ".ix is deprecated. Please use\n",
      ".loc for label based indexing or\n",
      ".iloc for positional indexing\n",
      "\n",
      "See the documentation here:\n",
      "http://pandas.pydata.org/pandas-docs/stable/indexing.html#ix-indexer-is-deprecated\n",
      "/usr/local/lib/python3.6/dist-packages/sklearn/linear_model/logistic.py:432: FutureWarning: Default solver will be changed to 'lbfgs' in 0.22. Specify a solver to silence this warning.\n",
      "  FutureWarning)\n",
      "/usr/local/lib/python3.6/dist-packages/sklearn/linear_model/logistic.py:432: FutureWarning: Default solver will be changed to 'lbfgs' in 0.22. Specify a solver to silence this warning.\n",
      "  FutureWarning)\n",
      "/usr/local/lib/python3.6/dist-packages/sklearn/linear_model/logistic.py:432: FutureWarning: Default solver will be changed to 'lbfgs' in 0.22. Specify a solver to silence this warning.\n",
      "  FutureWarning)\n",
      "/usr/local/lib/python3.6/dist-packages/sklearn/linear_model/logistic.py:432: FutureWarning: Default solver will be changed to 'lbfgs' in 0.22. Specify a solver to silence this warning.\n",
      "  FutureWarning)\n",
      "/usr/local/lib/python3.6/dist-packages/sklearn/linear_model/logistic.py:432: FutureWarning: Default solver will be changed to 'lbfgs' in 0.22. Specify a solver to silence this warning.\n",
      "  FutureWarning)\n",
      "/usr/local/lib/python3.6/dist-packages/ipykernel_launcher.py:37: DeprecationWarning: \n",
      ".ix is deprecated. Please use\n",
      ".loc for label based indexing or\n",
      ".iloc for positional indexing\n",
      "\n",
      "See the documentation here:\n",
      "http://pandas.pydata.org/pandas-docs/stable/indexing.html#ix-indexer-is-deprecated\n",
      "/usr/local/lib/python3.6/dist-packages/sklearn/linear_model/logistic.py:432: FutureWarning: Default solver will be changed to 'lbfgs' in 0.22. Specify a solver to silence this warning.\n",
      "  FutureWarning)\n",
      "/usr/local/lib/python3.6/dist-packages/sklearn/linear_model/logistic.py:432: FutureWarning: Default solver will be changed to 'lbfgs' in 0.22. Specify a solver to silence this warning.\n",
      "  FutureWarning)\n"
     ]
    },
    {
     "name": "stdout",
     "output_type": "stream",
     "text": [
      "f1得分： 0.045499492611398615\n"
     ]
    },
    {
     "name": "stderr",
     "output_type": "stream",
     "text": [
      "/usr/local/lib/python3.6/dist-packages/sklearn/linear_model/logistic.py:432: FutureWarning: Default solver will be changed to 'lbfgs' in 0.22. Specify a solver to silence this warning.\n",
      "  FutureWarning)\n",
      "/usr/local/lib/python3.6/dist-packages/sklearn/linear_model/logistic.py:432: FutureWarning: Default solver will be changed to 'lbfgs' in 0.22. Specify a solver to silence this warning.\n",
      "  FutureWarning)\n",
      "/usr/local/lib/python3.6/dist-packages/sklearn/linear_model/logistic.py:432: FutureWarning: Default solver will be changed to 'lbfgs' in 0.22. Specify a solver to silence this warning.\n",
      "  FutureWarning)\n"
     ]
    }
   ],
   "source": [
    "#逻辑回归模型\n",
    "from sklearn.linear_model import LogisticRegression\n",
    "model = LogisticRegression()\n",
    "model.fit(trainSet.ix[:, 2:6], trainSet.ix[:, -1])\n",
    "LogisticRegression(C=1.0, class_weight=None, dual=False, fit_intercept=True,\n",
    "              intercept_scaling=1, max_iter=100, multi_class='ovr', n_jobs=1,\n",
    "              penalty='l2', random_state=None, solver='liblinear', tol=0.0001,\n",
    "              verbose=0, warm_start=False)\n",
    "train_y_est = model.predict(trainSet.ix[:, 2:6])\n",
    "from sklearn import metrics\n",
    "# print(metrics.accuracy_score(trainSet.ix[:, -1], train_y_est)) #正确预测的比例  0.995055624227\n",
    "# print(model.score(trainSet.ix[:,2:6],trainSet.ix[:,-1])) #评估模型使用测试数据，这里得到的是准确率  等价上一条语句\n",
    "# print(train_y_est.sum())\n",
    "\n",
    "#加权逻辑回归（针对类别不平衡，基于代价敏感函数）\n",
    "lrw = LogisticRegression(class_weight='balanced')#针对样本不均衡问题，设置参数“class_weight”\n",
    "lrw.fit(trainSet.ix[:, 2:6], trainSet.ix[:, -1])\n",
    "trainLRW_y = lrw.predict(trainSet.ix[:, 2:6])\n",
    "print(\"trainLRW_y.sum():\", trainLRW_y.sum())\n",
    "print(lrw.score(trainSet.ix[:, 2:6], trainSet.ix[:, -1]))\n",
    "\n",
    "#计算精准率和召回率\n",
    "from sklearn.model_selection import train_test_split, cross_val_score\n",
    "#精准率\n",
    "precision = cross_val_score(lrw, trainSet.ix[:, 2:6], trainSet.ix[:, -1], cv=5, scoring='precision')\n",
    "print('精确度：', np.mean(precision))\n",
    "#召回率\n",
    "recalls = cross_val_score(lrw, trainSet.ix[:, 2:6], trainSet.ix[:, -1], cv=5, scoring='recall')\n",
    "print('召回率：', np.mean(recalls))\n",
    "#计算综合指标f1\n",
    "f1 = cross_val_score(lrw, trainSet.ix[:, 2:6], trainSet.ix[:, -1], cv=5, scoring='f1')\n",
    "print('得分：', np.mean(f1))\n",
    "\n",
    "#计算测试f1得分\n",
    "testLRW_y = lrw.predict(test_x.ix[:, 2:6])\n",
    "precision_test = cross_val_score(lrw, testSet.ix[:, 2:6], testSet.ix[:, -1], cv=5, scoring='precision')\n",
    "recall_test = cross_val_score(lrw, testSet.ix[:, 2:6], testSet.ix[:, -1], cv=5, scoring='recall')\n",
    "f1_test = cross_val_score(lrw, testSet.ix[:, 2:6], testSet.ix[:, -1], cv=5, scoring='f1')\n",
    "print('f1得分：', np.mean(f1_test))   #f1得分： 0.0454994926114"
   ]
  },
  {
   "cell_type": "code",
   "execution_count": 24,
   "metadata": {
    "colab": {
     "base_uri": "https://localhost:8080/",
     "height": 1377
    },
    "colab_type": "code",
    "executionInfo": {
     "elapsed": 26811,
     "status": "ok",
     "timestamp": 1560850097811,
     "user": {
      "displayName": "星程",
      "photoUrl": "https://lh3.googleusercontent.com/-NOEzZRf4kc4/AAAAAAAAAAI/AAAAAAAAABk/t825kwO_49M/s64/photo.jpg",
      "userId": "06492859864192307459"
     },
     "user_tz": -480
    },
    "id": "ASB4VDX81VHC",
    "outputId": "f954b775-7099-45c6-ade6-24186eb5ef8c"
   },
   "outputs": [
    {
     "name": "stderr",
     "output_type": "stream",
     "text": [
      "/usr/local/lib/python3.6/dist-packages/ipykernel_launcher.py:7: DeprecationWarning: \n",
      ".ix is deprecated. Please use\n",
      ".loc for label based indexing or\n",
      ".iloc for positional indexing\n",
      "\n",
      "See the documentation here:\n",
      "http://pandas.pydata.org/pandas-docs/stable/indexing.html#ix-indexer-is-deprecated\n",
      "  import sys\n",
      "/usr/local/lib/python3.6/dist-packages/ipykernel_launcher.py:8: DeprecationWarning: \n",
      ".ix is deprecated. Please use\n",
      ".loc for label based indexing or\n",
      ".iloc for positional indexing\n",
      "\n",
      "See the documentation here:\n",
      "http://pandas.pydata.org/pandas-docs/stable/indexing.html#ix-indexer-is-deprecated\n",
      "  \n",
      "/usr/local/lib/python3.6/dist-packages/ipykernel_launcher.py:10: DeprecationWarning: \n",
      ".ix is deprecated. Please use\n",
      ".loc for label based indexing or\n",
      ".iloc for positional indexing\n",
      "\n",
      "See the documentation here:\n",
      "http://pandas.pydata.org/pandas-docs/stable/indexing.html#ix-indexer-is-deprecated\n",
      "  # Remove the CWD from sys.path while we load stuff.\n",
      "/usr/local/lib/python3.6/dist-packages/ipykernel_launcher.py:15: DeprecationWarning: \n",
      ".ix is deprecated. Please use\n",
      ".loc for label based indexing or\n",
      ".iloc for positional indexing\n",
      "\n",
      "See the documentation here:\n",
      "http://pandas.pydata.org/pandas-docs/stable/indexing.html#ix-indexer-is-deprecated\n",
      "  from ipykernel import kernelapp as app\n"
     ]
    },
    {
     "name": "stdout",
     "output_type": "stream",
     "text": [
      "39.0\n",
      "0.9967531391843091\n",
      "精确度： 0.016666666666666666\n"
     ]
    },
    {
     "name": "stderr",
     "output_type": "stream",
     "text": [
      "/usr/local/lib/python3.6/dist-packages/ipykernel_launcher.py:18: DeprecationWarning: \n",
      ".ix is deprecated. Please use\n",
      ".loc for label based indexing or\n",
      ".iloc for positional indexing\n",
      "\n",
      "See the documentation here:\n",
      "http://pandas.pydata.org/pandas-docs/stable/indexing.html#ix-indexer-is-deprecated\n"
     ]
    },
    {
     "name": "stdout",
     "output_type": "stream",
     "text": [
      "召回率： 0.007692307692307693\n"
     ]
    },
    {
     "name": "stderr",
     "output_type": "stream",
     "text": [
      "/usr/local/lib/python3.6/dist-packages/ipykernel_launcher.py:21: DeprecationWarning: \n",
      ".ix is deprecated. Please use\n",
      ".loc for label based indexing or\n",
      ".iloc for positional indexing\n",
      "\n",
      "See the documentation here:\n",
      "http://pandas.pydata.org/pandas-docs/stable/indexing.html#ix-indexer-is-deprecated\n"
     ]
    },
    {
     "name": "stdout",
     "output_type": "stream",
     "text": [
      "得分： 0.010526315789473684\n"
     ]
    },
    {
     "name": "stderr",
     "output_type": "stream",
     "text": [
      "/usr/local/lib/python3.6/dist-packages/ipykernel_launcher.py:25: DeprecationWarning: \n",
      ".ix is deprecated. Please use\n",
      ".loc for label based indexing or\n",
      ".iloc for positional indexing\n",
      "\n",
      "See the documentation here:\n",
      "http://pandas.pydata.org/pandas-docs/stable/indexing.html#ix-indexer-is-deprecated\n",
      "/usr/local/lib/python3.6/dist-packages/ipykernel_launcher.py:26: DeprecationWarning: \n",
      ".ix is deprecated. Please use\n",
      ".loc for label based indexing or\n",
      ".iloc for positional indexing\n",
      "\n",
      "See the documentation here:\n",
      "http://pandas.pydata.org/pandas-docs/stable/indexing.html#ix-indexer-is-deprecated\n",
      "/usr/local/lib/python3.6/dist-packages/ipykernel_launcher.py:27: DeprecationWarning: \n",
      ".ix is deprecated. Please use\n",
      ".loc for label based indexing or\n",
      ".iloc for positional indexing\n",
      "\n",
      "See the documentation here:\n",
      "http://pandas.pydata.org/pandas-docs/stable/indexing.html#ix-indexer-is-deprecated\n",
      "/usr/local/lib/python3.6/dist-packages/ipykernel_launcher.py:28: DeprecationWarning: \n",
      ".ix is deprecated. Please use\n",
      ".loc for label based indexing or\n",
      ".iloc for positional indexing\n",
      "\n",
      "See the documentation here:\n",
      "http://pandas.pydata.org/pandas-docs/stable/indexing.html#ix-indexer-is-deprecated\n"
     ]
    },
    {
     "name": "stdout",
     "output_type": "stream",
     "text": [
      "f1得分： 0.0125\n"
     ]
    }
   ],
   "source": [
    "# GBDT\n",
    "import pandas as pd\n",
    "import numpy as np\n",
    "from sklearn.ensemble import GradientBoostingClassifier\n",
    "trainSet = pd.read_csv('drive/Colab Notebooks/Recommended system/data/train.csv')\n",
    "testSet = pd.read_csv('drive/Colab Notebooks/Recommended system/data/testSet.csv')\n",
    "gbdt = GradientBoostingClassifier(random_state=10)\n",
    "gbdt.fit(trainSet.ix[:, 2:6], trainSet.ix[:, -1])\n",
    "trainGBDT_y = gbdt.predict(trainSet.ix[:, 2:6])\n",
    "print(trainGBDT_y.sum())\n",
    "print(gbdt.score(trainSet.ix[:, 2:6], trainSet.ix[:, -1]))#0.996753139184\n",
    "\n",
    "#计算精准率和召回率\n",
    "from sklearn.model_selection import train_test_split, cross_val_score\n",
    "#精准率\n",
    "precision = cross_val_score(gbdt, trainSet.ix[:, 2:6], trainSet.ix[:, -1], cv=5, scoring='precision')\n",
    "print('精确度：', np.mean(precision))\n",
    "#召回率\n",
    "recalls = cross_val_score(gbdt, trainSet.ix[:, 2:6], trainSet.ix[:, -1], cv=5, scoring='recall')\n",
    "print('召回率：', np.mean(recalls))\n",
    "#计算综合指标f1\n",
    "f1 = cross_val_score(gbdt, trainSet.ix[:, 2:6], trainSet.ix[:, -1], cv=5, scoring='f1')\n",
    "print('得分：', np.mean(f1))\n",
    "\n",
    "#计算测试f1得分\n",
    "testLRW_y = gbdt.predict(test_x.ix[:, 2:6])\n",
    "precision_test = cross_val_score(gbdt, testSet.ix[:, 2:6], testSet.ix[:, -1], cv=5, scoring='precision')\n",
    "recall_test = cross_val_score(gbdt, testSet.ix[:, 2:6], testSet.ix[:, -1], cv=5, scoring='recall')\n",
    "f1_test = cross_val_score(gbdt, testSet.ix[:, 2:6], testSet.ix[:, -1], cv=5, scoring='f1')\n",
    "print('f1得分：', np.mean(f1_test))  #f1得分： 0.0125"
   ]
  },
  {
   "cell_type": "code",
   "execution_count": 25,
   "metadata": {
    "colab": {
     "base_uri": "https://localhost:8080/",
     "height": 938
    },
    "colab_type": "code",
    "executionInfo": {
     "elapsed": 5526,
     "status": "ok",
     "timestamp": 1560850167648,
     "user": {
      "displayName": "星程",
      "photoUrl": "https://lh3.googleusercontent.com/-NOEzZRf4kc4/AAAAAAAAAAI/AAAAAAAAABk/t825kwO_49M/s64/photo.jpg",
      "userId": "06492859864192307459"
     },
     "user_tz": -480
    },
    "id": "Dwiz2PyH1aKZ",
    "outputId": "3f863d9f-141c-4f24-d2c0-1d279cbea884"
   },
   "outputs": [
    {
     "name": "stderr",
     "output_type": "stream",
     "text": [
      "/usr/local/lib/python3.6/dist-packages/ipykernel_launcher.py:7: DeprecationWarning: \n",
      ".ix is deprecated. Please use\n",
      ".loc for label based indexing or\n",
      ".iloc for positional indexing\n",
      "\n",
      "See the documentation here:\n",
      "http://pandas.pydata.org/pandas-docs/stable/indexing.html#ix-indexer-is-deprecated\n",
      "  import sys\n",
      "/usr/local/lib/python3.6/dist-packages/sklearn/ensemble/forest.py:245: FutureWarning: The default value of n_estimators will change from 10 in version 0.20 to 100 in 0.22.\n",
      "  \"10 in version 0.20 to 100 in 0.22.\", FutureWarning)\n",
      "/usr/local/lib/python3.6/dist-packages/ipykernel_launcher.py:8: DeprecationWarning: \n",
      ".ix is deprecated. Please use\n",
      ".loc for label based indexing or\n",
      ".iloc for positional indexing\n",
      "\n",
      "See the documentation here:\n",
      "http://pandas.pydata.org/pandas-docs/stable/indexing.html#ix-indexer-is-deprecated\n",
      "  \n",
      "/usr/local/lib/python3.6/dist-packages/ipykernel_launcher.py:9: DeprecationWarning: \n",
      ".ix is deprecated. Please use\n",
      ".loc for label based indexing or\n",
      ".iloc for positional indexing\n",
      "\n",
      "See the documentation here:\n",
      "http://pandas.pydata.org/pandas-docs/stable/indexing.html#ix-indexer-is-deprecated\n",
      "  if __name__ == '__main__':\n",
      "/usr/local/lib/python3.6/dist-packages/ipykernel_launcher.py:17: DeprecationWarning: \n",
      ".ix is deprecated. Please use\n",
      ".loc for label based indexing or\n",
      ".iloc for positional indexing\n",
      "\n",
      "See the documentation here:\n",
      "http://pandas.pydata.org/pandas-docs/stable/indexing.html#ix-indexer-is-deprecated\n"
     ]
    },
    {
     "name": "stdout",
     "output_type": "stream",
     "text": [
      "0.9989398005499784\n",
      "101.0\n",
      "[0. 0. 0. ... 0. 0. 0.]\n",
      "precision_test: [0.         0.         0.         0.07692308 0.        ]\n"
     ]
    },
    {
     "name": "stderr",
     "output_type": "stream",
     "text": [
      "/usr/local/lib/python3.6/dist-packages/ipykernel_launcher.py:19: DeprecationWarning: \n",
      ".ix is deprecated. Please use\n",
      ".loc for label based indexing or\n",
      ".iloc for positional indexing\n",
      "\n",
      "See the documentation here:\n",
      "http://pandas.pydata.org/pandas-docs/stable/indexing.html#ix-indexer-is-deprecated\n"
     ]
    },
    {
     "name": "stdout",
     "output_type": "stream",
     "text": [
      "recall_test: [0.   0.04 0.   0.   0.  ]\n"
     ]
    },
    {
     "name": "stderr",
     "output_type": "stream",
     "text": [
      "/usr/local/lib/python3.6/dist-packages/ipykernel_launcher.py:21: DeprecationWarning: \n",
      ".ix is deprecated. Please use\n",
      ".loc for label based indexing or\n",
      ".iloc for positional indexing\n",
      "\n",
      "See the documentation here:\n",
      "http://pandas.pydata.org/pandas-docs/stable/indexing.html#ix-indexer-is-deprecated\n"
     ]
    },
    {
     "name": "stdout",
     "output_type": "stream",
     "text": [
      "f1得分： 0.020256410256410257\n"
     ]
    }
   ],
   "source": [
    "# RF\n",
    "from sklearn.ensemble import RandomForestClassifier\n",
    "import pandas as pd\n",
    "import numpy as np\n",
    "trainSet = pd.read_csv('drive/Colab Notebooks/Recommended system/data/train.csv')\n",
    "testSet = pd.read_csv('drive/Colab Notebooks/Recommended system/data/testSet.csv')\n",
    "rf = RandomForestClassifier()\n",
    "rf.fit(trainSet.ix[:, 2:6], trainSet.ix[:, -1])\n",
    "trainRF_y = rf.predict(trainSet.ix[:, 2:6])\n",
    "print(rf.score(trainSet.ix[:, 2:6], trainSet.ix[:, -1]))#0.998442832058\n",
    "print(trainRF_y.sum())\n",
    "print(trainRF_y)\n",
    "\n",
    "#计算精准率和召回率\n",
    "from sklearn.model_selection import train_test_split, cross_val_score\n",
    "#计算测试f1得分\n",
    "# testLRW_y = gbdt.predict(test_x.ix[:, 2:6])\n",
    "precision_test = cross_val_score(rf, testSet.ix[:, 2:6], testSet.ix[:, -1], cv=5, scoring='precision')\n",
    "print('precision_test:',precision_test)\n",
    "recall_test = cross_val_score(rf, testSet.ix[:, 2:6], testSet.ix[:, -1], cv=5, scoring='recall')\n",
    "print('recall_test:', recall_test)\n",
    "f1_test = cross_val_score(rf, testSet.ix[:, 2:6], testSet.ix[:, -1], cv=5, scoring='f1')\n",
    "print('f1得分：', np.mean(f1_test))   #f1得分： 0.0205669083718#"
   ]
  },
  {
   "cell_type": "markdown",
   "metadata": {
    "colab_type": "text",
    "id": "5EYtUzRt1Ytg"
   },
   "source": []
  },
  {
   "cell_type": "markdown",
   "metadata": {
    "colab_type": "text",
    "id": "PyG8l8JalB2F"
   },
   "source": []
  }
 ],
 "metadata": {
  "accelerator": "GPU",
  "colab": {
   "collapsed_sections": [],
   "name": "Recommended system.ipynb",
   "provenance": [],
   "version": "0.3.2"
  },
  "kernelspec": {
   "display_name": "Python 3",
   "language": "python",
   "name": "python3"
  },
  "language_info": {
   "codemirror_mode": {
    "name": "ipython",
    "version": 3
   },
   "file_extension": ".py",
   "mimetype": "text/x-python",
   "name": "python",
   "nbconvert_exporter": "python",
   "pygments_lexer": "ipython3",
   "version": "3.6.5"
  }
 },
 "nbformat": 4,
 "nbformat_minor": 1
}
