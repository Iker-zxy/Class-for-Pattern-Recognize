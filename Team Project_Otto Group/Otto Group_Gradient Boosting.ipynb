{
 "cells": [
  {
   "cell_type": "code",
   "execution_count": 1,
   "metadata": {},
   "outputs": [
    {
     "name": "stderr",
     "output_type": "stream",
     "text": [
      "/home/xyz/anaconda3/lib/python3.7/site-packages/sklearn/ensemble/weight_boosting.py:29: DeprecationWarning: numpy.core.umath_tests is an internal NumPy module and should not be imported. It will be removed in a future NumPy release.\n",
      "  from numpy.core.umath_tests import inner1d\n"
     ]
    }
   ],
   "source": [
    "import numpy as np\n",
    "import pandas as pd\n",
    "from sklearn.ensemble import GradientBoostingClassifier, RandomForestClassifier, AdaBoostClassifier, BaggingClassifier\n",
    "import datetime"
   ]
  },
  {
   "cell_type": "code",
   "execution_count": 2,
   "metadata": {},
   "outputs": [],
   "source": [
    "def now():\n",
    "    return '_'.join(str(datetime.datetime.now()).split())"
   ]
  },
  {
   "cell_type": "code",
   "execution_count": 3,
   "metadata": {},
   "outputs": [],
   "source": [
    "df_train = pd.read_csv('/home/xyz/Documents/Otto_Group_data/train.csv')\n",
    "df_test = pd.read_csv('/home/xyz/Documents/Otto_Group_data/test.csv')"
   ]
  },
  {
   "cell_type": "code",
   "execution_count": 4,
   "metadata": {},
   "outputs": [],
   "source": [
    "def convert_class_label_to_int(class_label):\n",
    "    return int(class_label[6:]) - 1"
   ]
  },
  {
   "cell_type": "code",
   "execution_count": 5,
   "metadata": {},
   "outputs": [],
   "source": [
    "def find_means_stds(features_array):\n",
    "    means = [np.mean(features_array[:, i]) for i in range(features_array.shape[1])]\n",
    "    stds = [np.std(features_array[:, i]) for i in range(features_array.shape[1])]\n",
    "    return {'means': means, 'stds': stds}"
   ]
  },
  {
   "cell_type": "code",
   "execution_count": 6,
   "metadata": {},
   "outputs": [],
   "source": [
    "def z_score_feature(feature_slice, mean, std):\n",
    "    return (feature_slice - mean) / std"
   ]
  },
  {
   "cell_type": "code",
   "execution_count": 7,
   "metadata": {},
   "outputs": [],
   "source": [
    "\n",
    "renamed_labels = [convert_class_label_to_int(i) for i in df_train['target'].values]\n",
    "\n",
    "feature_columns = ['feat_' + str(i + 1) for i in range(93)]\n",
    "df_train['renamed_labels'] = renamed_labels"
   ]
  },
  {
   "cell_type": "code",
   "execution_count": 8,
   "metadata": {},
   "outputs": [],
   "source": [
    "mstddict = find_means_stds(df_train[feature_columns].values)"
   ]
  },
  {
   "cell_type": "code",
   "execution_count": 9,
   "metadata": {},
   "outputs": [],
   "source": [
    "for i in range(93):\n",
    "    df_train['feat_' + str(i + 1)] = z_score_feature(df_train['feat_' + str(i + 1)].values, mstddict['means'][i],\n",
    "                                                     mstddict['stds'][i])"
   ]
  },
  {
   "cell_type": "code",
   "execution_count": 10,
   "metadata": {},
   "outputs": [],
   "source": [
    "\n",
    "for i in range(93):\n",
    "    df_test['feat_' + str(i + 1)] = z_score_feature(df_test['feat_' + str(i + 1)].values, mstddict['means'][i],\n",
    "                                                    mstddict['stds'][i])"
   ]
  },
  {
   "cell_type": "code",
   "execution_count": 11,
   "metadata": {},
   "outputs": [],
   "source": [
    "# rf = AdaBoostClassifier(n_estimators=100)\n",
    "# clrf = RandomForestClassifier(n_estimators=400, max_features=25)\n",
    "# clf = AdaBoostClassifier(base_estimator=clrf, n_estimators=15)\n",
    "# clf2 = GradientBoostingClassifier(n_estimators=250, max_depth=8, max_features=15)\n",
    "\n",
    "clf = GradientBoostingClassifier(n_estimators=700, max_depth=7, max_features=20, learning_rate=0.03)"
   ]
  },
  {
   "cell_type": "code",
   "execution_count": 12,
   "metadata": {},
   "outputs": [
    {
     "data": {
      "text/plain": [
       "GradientBoostingClassifier(criterion='friedman_mse', init=None,\n",
       "              learning_rate=0.03, loss='deviance', max_depth=7,\n",
       "              max_features=20, max_leaf_nodes=None,\n",
       "              min_impurity_decrease=0.0, min_impurity_split=None,\n",
       "              min_samples_leaf=1, min_samples_split=2,\n",
       "              min_weight_fraction_leaf=0.0, n_estimators=700,\n",
       "              presort='auto', random_state=None, subsample=1.0, verbose=0,\n",
       "              warm_start=False)"
      ]
     },
     "execution_count": 12,
     "metadata": {},
     "output_type": "execute_result"
    }
   ],
   "source": [
    "clf.fit(df_train[feature_columns].values, df_train['renamed_labels'].values)"
   ]
  },
  {
   "cell_type": "code",
   "execution_count": 13,
   "metadata": {},
   "outputs": [],
   "source": [
    "labels_pr = clf.predict_proba(df_test[feature_columns].values)\n",
    "labels_pr_tr = clf.predict_proba(df_train[feature_columns].values)"
   ]
  },
  {
   "cell_type": "code",
   "execution_count": 15,
   "metadata": {},
   "outputs": [],
   "source": [
    "\n",
    "now_name = now()\n",
    "\n",
    "predict_dict = {'id': df_test['id'].values}\n",
    "for i in range(9):\n",
    "    predict_dict['Class_' + str(i + 1)] = labels_pr[:, i]\n",
    "df_sub = pd.DataFrame(predict_dict)\n",
    "\n"
   ]
  },
  {
   "cell_type": "code",
   "execution_count": 20,
   "metadata": {},
   "outputs": [
    {
     "data": {
      "text/html": [
       "<div>\n",
       "<style scoped>\n",
       "    .dataframe tbody tr th:only-of-type {\n",
       "        vertical-align: middle;\n",
       "    }\n",
       "\n",
       "    .dataframe tbody tr th {\n",
       "        vertical-align: top;\n",
       "    }\n",
       "\n",
       "    .dataframe thead th {\n",
       "        text-align: right;\n",
       "    }\n",
       "</style>\n",
       "<table border=\"1\" class=\"dataframe\">\n",
       "  <thead>\n",
       "    <tr style=\"text-align: right;\">\n",
       "      <th></th>\n",
       "      <th>id</th>\n",
       "      <th>Class_1</th>\n",
       "      <th>Class_2</th>\n",
       "      <th>Class_3</th>\n",
       "      <th>Class_4</th>\n",
       "      <th>Class_5</th>\n",
       "      <th>Class_6</th>\n",
       "      <th>Class_7</th>\n",
       "      <th>Class_8</th>\n",
       "      <th>Class_9</th>\n",
       "    </tr>\n",
       "  </thead>\n",
       "  <tbody>\n",
       "    <tr>\n",
       "      <th>0</th>\n",
       "      <td>49503</td>\n",
       "      <td>0.002642</td>\n",
       "      <td>0.000315</td>\n",
       "      <td>0.000184</td>\n",
       "      <td>0.000274</td>\n",
       "      <td>6.071141e-07</td>\n",
       "      <td>0.993787</td>\n",
       "      <td>0.000666</td>\n",
       "      <td>0.001975</td>\n",
       "      <td>0.000156</td>\n",
       "    </tr>\n",
       "    <tr>\n",
       "      <th>1</th>\n",
       "      <td>49504</td>\n",
       "      <td>0.000142</td>\n",
       "      <td>0.000328</td>\n",
       "      <td>0.000170</td>\n",
       "      <td>0.000077</td>\n",
       "      <td>1.237000e-07</td>\n",
       "      <td>0.000995</td>\n",
       "      <td>0.000034</td>\n",
       "      <td>0.998091</td>\n",
       "      <td>0.000162</td>\n",
       "    </tr>\n",
       "    <tr>\n",
       "      <th>2</th>\n",
       "      <td>49505</td>\n",
       "      <td>0.877219</td>\n",
       "      <td>0.004759</td>\n",
       "      <td>0.003716</td>\n",
       "      <td>0.000937</td>\n",
       "      <td>2.393694e-04</td>\n",
       "      <td>0.005676</td>\n",
       "      <td>0.023783</td>\n",
       "      <td>0.074960</td>\n",
       "      <td>0.008710</td>\n",
       "    </tr>\n",
       "    <tr>\n",
       "      <th>3</th>\n",
       "      <td>49506</td>\n",
       "      <td>0.000002</td>\n",
       "      <td>0.000532</td>\n",
       "      <td>0.000389</td>\n",
       "      <td>0.000019</td>\n",
       "      <td>2.664179e-07</td>\n",
       "      <td>0.000039</td>\n",
       "      <td>0.000103</td>\n",
       "      <td>0.998902</td>\n",
       "      <td>0.000014</td>\n",
       "    </tr>\n",
       "    <tr>\n",
       "      <th>4</th>\n",
       "      <td>49507</td>\n",
       "      <td>0.000699</td>\n",
       "      <td>0.631727</td>\n",
       "      <td>0.357930</td>\n",
       "      <td>0.004197</td>\n",
       "      <td>6.739381e-05</td>\n",
       "      <td>0.001699</td>\n",
       "      <td>0.002516</td>\n",
       "      <td>0.000790</td>\n",
       "      <td>0.000375</td>\n",
       "    </tr>\n",
       "  </tbody>\n",
       "</table>\n",
       "</div>"
      ],
      "text/plain": [
       "      id   Class_1   Class_2   Class_3   Class_4       Class_5   Class_6  \\\n",
       "0  49503  0.002642  0.000315  0.000184  0.000274  6.071141e-07  0.993787   \n",
       "1  49504  0.000142  0.000328  0.000170  0.000077  1.237000e-07  0.000995   \n",
       "2  49505  0.877219  0.004759  0.003716  0.000937  2.393694e-04  0.005676   \n",
       "3  49506  0.000002  0.000532  0.000389  0.000019  2.664179e-07  0.000039   \n",
       "4  49507  0.000699  0.631727  0.357930  0.004197  6.739381e-05  0.001699   \n",
       "\n",
       "    Class_7   Class_8   Class_9  \n",
       "0  0.000666  0.001975  0.000156  \n",
       "1  0.000034  0.998091  0.000162  \n",
       "2  0.023783  0.074960  0.008710  \n",
       "3  0.000103  0.998902  0.000014  \n",
       "4  0.002516  0.000790  0.000375  "
      ]
     },
     "execution_count": 20,
     "metadata": {},
     "output_type": "execute_result"
    }
   ],
   "source": [
    "df_sub.head()"
   ]
  },
  {
   "cell_type": "code",
   "execution_count": 17,
   "metadata": {},
   "outputs": [],
   "source": [
    "df_sub.to_csv('/home/xyz/Documents/Otto_Group_data/submission2.csv',index = False)"
   ]
  },
  {
   "cell_type": "code",
   "execution_count": null,
   "metadata": {},
   "outputs": [],
   "source": []
  }
 ],
 "metadata": {
  "kernelspec": {
   "display_name": "Python 3",
   "language": "python",
   "name": "python3"
  },
  "language_info": {
   "codemirror_mode": {
    "name": "ipython",
    "version": 3
   },
   "file_extension": ".py",
   "mimetype": "text/x-python",
   "name": "python",
   "nbconvert_exporter": "python",
   "pygments_lexer": "ipython3",
   "version": "3.7.0"
  }
 },
 "nbformat": 4,
 "nbformat_minor": 2
}
