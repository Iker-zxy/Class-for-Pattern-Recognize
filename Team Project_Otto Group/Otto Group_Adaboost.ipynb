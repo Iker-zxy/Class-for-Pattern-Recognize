{
 "cells": [
  {
   "cell_type": "code",
   "execution_count": 69,
   "metadata": {
    "collapsed": true
   },
   "outputs": [],
   "source": [
    "import pandas as pd\n",
    "import numpy as np\n",
    "\n",
    "from sklearn.cross_validation import train_test_split\n",
    "\n",
    "from sklearn.ensemble import AdaBoostClassifier\n",
    "\n",
    "from sklearn.tree import DecisionTreeClassifier\n"
   ]
  },
  {
   "cell_type": "code",
   "execution_count": 70,
   "metadata": {
    "collapsed": true
   },
   "outputs": [],
   "source": [
    "#数据的导入\n",
    "data_train=pd.read_csv('train.csv')           #读取训练数据\n",
    "data_test=pd.read_csv('test.csv')             #读取测试数据\n",
    "Y=data_train.target                           #读取训练数据中的target字段  输出"
   ]
  },
  {
   "cell_type": "code",
   "execution_count": 71,
   "metadata": {
    "collapsed": true
   },
   "outputs": [],
   "source": [
    "#对数据进行预处理\n",
    "data_train.dropna(axis=0,how='any',subset=['target'],inplace=True)         #删除Score为空值的数据行"
   ]
  },
  {
   "cell_type": "code",
   "execution_count": 72,
   "metadata": {
    "collapsed": true
   },
   "outputs": [],
   "source": [
    "X=data_train.drop(['target','id'], axis=1)                \n",
    "X=pd.get_dummies(X)                                                    #用pd.get_dummies方法进行one-hot编码                                  \n",
    "X=X.apply(lambda x:(x-np.min(x))/(np.max(x)-np.min(x)))               #min-max标准化（Min-Max Normalization）\n",
    "                                                                       #也称为离差标准化，是对原始数据的线性变换，使结果值映射到[0-1]\n",
    "\n",
    "test_X=data_test.drop(['id'], axis=1)                \n",
    "test_X=pd.get_dummies(test_X)\n",
    "test_X=test_X.apply(lambda x:(x-np.min(x))/(np.max(x)-np.min(x)))        \n",
    "\n",
    "X=np.array(X)\n",
    "X=pd.DataFrame(X)                           #加这两行是为了让dataframe的列名变为按序排列的数字，为什么用原来的列名总会出现使得X^T*X为奇异矩阵\n",
    "test_X=np.array(test_X)\n",
    "test_X=pd.DataFrame(test_X)                 \n",
    "X_total=pd.concat([X,test_X])               #将训练测试集合并起来，统一进行数据处理"
   ]
  },
  {
   "cell_type": "code",
   "execution_count": 73,
   "metadata": {
    "collapsed": true
   },
   "outputs": [],
   "source": [
    "cols=[x for i,x in enumerate(X_total.columns) if X_total.iat[0,i]==0]              #得到全为0的列\n",
    "X_total=X_total.drop(cols,axis=1)                                                   #删掉全为0的列"
   ]
  },
  {
   "cell_type": "code",
   "execution_count": 74,
   "metadata": {
    "collapsed": true
   },
   "outputs": [],
   "source": [
    "X=X_total[0:49502]\n",
    "test_X=X_total[49502:61878]"
   ]
  },
  {
   "cell_type": "code",
   "execution_count": 75,
   "metadata": {
    "collapsed": true
   },
   "outputs": [],
   "source": [
    "# 将数据分为训练集和校验集\n",
    "train_X, valid_X, train_Y, valid_Y = train_test_split(X.values, Y.values, test_size=0.25)"
   ]
  },
  {
   "cell_type": "code",
   "execution_count": 76,
   "metadata": {},
   "outputs": [
    {
     "data": {
      "text/plain": [
       "AdaBoostClassifier(algorithm='SAMME.R',\n",
       "          base_estimator=DecisionTreeClassifier(class_weight=None, criterion='gini', max_depth=8,\n",
       "            max_features=None, max_leaf_nodes=None,\n",
       "            min_impurity_decrease=0.0, min_impurity_split=None,\n",
       "            min_samples_leaf=1, min_samples_split=2,\n",
       "            min_weight_fraction_leaf=0.0, presort=False, random_state=None,\n",
       "            splitter='best'),\n",
       "          learning_rate=0.01, n_estimators=3000, random_state=None)"
      ]
     },
     "execution_count": 76,
     "metadata": {},
     "output_type": "execute_result"
    }
   ],
   "source": [
    "bdt_real = AdaBoostClassifier(\n",
    "    DecisionTreeClassifier(max_depth=8),\n",
    "    n_estimators=3000,\n",
    "    learning_rate=0.01)\n",
    "\n",
    "\n",
    "#bdt_real.fit(X.values, Y.values)\n",
    "bdt_real.fit(train_X, train_Y)\n"
   ]
  },
  {
   "cell_type": "code",
   "execution_count": 77,
   "metadata": {
    "collapsed": true
   },
   "outputs": [],
   "source": [
    "Y_pred=bdt_real.predict_proba(test_X)"
   ]
  },
  {
   "cell_type": "code",
   "execution_count": 78,
   "metadata": {
    "collapsed": true
   },
   "outputs": [],
   "source": [
    "answer = pd.read_csv(open(\"./sampleSubmission.csv\"))\n",
    "class_list = [\"Class_1\",\"Class_2\",\"Class_3\",\"Class_4\",\"Class_5\",\"Class_6\",\"Class_7\",\"Class_8\",\"Class_9\"]\n",
    "answer[class_list] = answer[class_list].astype(float)\n",
    "\n",
    "# 将答案放进去\n",
    "j = 0\n",
    "for class_name in class_list:\n",
    "    answer[class_name] = Y_pred[:, j]\n",
    "    j += 1\n",
    "answer.to_csv(\"./submission.csv\",index=False) # 不要保存引索列"
   ]
  },
  {
   "cell_type": "code",
   "execution_count": null,
   "metadata": {
    "collapsed": true
   },
   "outputs": [],
   "source": []
  },
  {
   "cell_type": "code",
   "execution_count": null,
   "metadata": {
    "collapsed": true
   },
   "outputs": [],
   "source": []
  }
 ],
 "metadata": {
  "kernelspec": {
   "display_name": "Python 3",
   "language": "python",
   "name": "python3"
  },
  "language_info": {
   "codemirror_mode": {
    "name": "ipython",
    "version": 3
   },
   "file_extension": ".py",
   "mimetype": "text/x-python",
   "name": "python",
   "nbconvert_exporter": "python",
   "pygments_lexer": "ipython3",
   "version": "3.6.2"
  }
 },
 "nbformat": 4,
 "nbformat_minor": 2
}
